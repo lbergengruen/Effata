{
 "cells": [
  {
   "cell_type": "code",
   "execution_count": 215,
   "metadata": {},
   "outputs": [],
   "source": [
    "from openal import *\n",
    "import time\n",
    "import random\n",
    "import threading\n",
    "import math"
   ]
  },
  {
   "cell_type": "code",
   "execution_count": 216,
   "metadata": {},
   "outputs": [],
   "source": [
    "class threadSound (threading.Thread):\n",
    "    def __init__(self, x, y, z):\n",
    "        threading.Thread.__init__(self)\n",
    "        self.x = x\n",
    "        self.y = y\n",
    "        self.z = z\n",
    "    def run(self):\n",
    "        playSound(self.x,self.y,self.z)"
   ]
  },
  {
   "cell_type": "code",
   "execution_count": 217,
   "metadata": {},
   "outputs": [],
   "source": [
    "def beepBeep(source):\n",
    "    source.play()\n",
    "    time.sleep(0.1)\n",
    "    source.stop()\n",
    "    time.sleep(0.05)\n",
    "    source.play()\n",
    "    time.sleep(0.1)\n",
    "    source.stop()"
   ]
  },
  {
   "cell_type": "code",
   "execution_count": 218,
   "metadata": {},
   "outputs": [],
   "source": [
    "def gradualBeepBeep(source):\n",
    "    initial = source.gain\n",
    "    gain = source.gain\n",
    "    \n",
    "    source.play()\n",
    "    time.sleep(0.1)\n",
    "    \n",
    "    source.set_gain(0.0)\n",
    "    time.sleep(0.1)\n",
    "    source.stop()\n",
    "    \n",
    "    source.set_gain(initial)\n",
    "    source.play()\n",
    "    time.sleep(0.5)\n",
    "    gain = source.gain\n",
    "    while gain > 0.02:\n",
    "        source.set_gain(gain)\n",
    "        gain = gain - (gain/2)\n",
    "        time.sleep(0.05)\n",
    "    source.set_gain(0.0)\n",
    "    time.sleep(0.2)\n",
    "    source.stop()"
   ]
  },
  {
   "cell_type": "code",
   "execution_count": 219,
   "metadata": {},
   "outputs": [],
   "source": [
    "def gradualBeep(source):\n",
    "    source.play()\n",
    "    gain = source.gain\n",
    "    time.sleep(0.8)\n",
    "    \n",
    "    while gain > 0.02:\n",
    "        source.set_gain(gain)\n",
    "        gain = gain - (gain/2)\n",
    "        time.sleep(0.1)\n",
    "    \n",
    "    source.set_gain(0.0)\n",
    "    time.sleep(0.4)\n",
    "    source.stop()"
   ]
  },
  {
   "cell_type": "code",
   "execution_count": 221,
   "metadata": {},
   "outputs": [],
   "source": [
    "def sinBeep(source):\n",
    "    source.play()\n",
    "    x = 0.0\n",
    "    original = source.gain\n",
    "    print(original)\n",
    "    while x < 1*(math.pi):\n",
    "        source.set_gain(original*(math.sin(x)))\n",
    "        x = x + 0.1\n",
    "        time.sleep(0.05)\n",
    "    \n",
    "    source.set_gain(0.0)\n",
    "    time.sleep(0.4)\n",
    "    source.stop()"
   ]
  },
  {
   "cell_type": "code",
   "execution_count": 222,
   "metadata": {},
   "outputs": [],
   "source": [
    "def playSound(x,y,z):\n",
    "    v = (0,0,0)\n",
    "    listener = oalGetListener()\n",
    "    listener.set_position(v)\n",
    "    alDistanceModel(AL_EXPONENT_DISTANCE)\n",
    "    \n",
    "    waveFile = WaveFile(\"agudo5s.wav\")\n",
    "    buffer = Buffer(waveFile)\n",
    "\n",
    "    source = Source(buffer)\n",
    "    source.set_source_relative(True)\n",
    "    v1 = (x,y,z)\n",
    "    source.set_position(v1)\n",
    "    source.set_reference_distance(0.5)\n",
    "    source.set_rolloff_factor(0.5)\n",
    "    \n",
    "#     source.set_looping(True)\n",
    "    pitch = random.random()/3 + 0.1\n",
    "#     pitch = random.random()/5 + 0.1\n",
    "#     pitch = 0.3\n",
    "#     pitch = 0.2\n",
    "    source.set_pitch(pitch)\n",
    "\n",
    "#     beepBeep(source)\n",
    "    gradualBeep(source)\n",
    "#     sinBeep(source)\n",
    "#     gradualBeepBeep(source)\n",
    "    \n",
    "#     oalQuit()"
   ]
  },
  {
   "cell_type": "code",
   "execution_count": 178,
   "metadata": {},
   "outputs": [],
   "source": [
    "# Create new threads\n",
    "thread1 = threadSound(-1, 1, 1)\n",
    "\n",
    "thread2 = threadSound(0.5, 4, 1)\n",
    "\n",
    "# Start new Threads\n",
    "thread1.start()\n",
    "time.sleep(0.2)\n",
    "thread2.start()\n",
    "\n",
    "# playSound(2, 100, 2)\n",
    "# playSound((random.random())*200 - 100,(random.random())*200 - 100,0)\n",
    "# playSound((random.random())*200 - 100,(random.random())*200 - 100,0)"
   ]
  },
  {
   "cell_type": "code",
   "execution_count": null,
   "metadata": {},
   "outputs": [],
   "source": []
  },
  {
   "cell_type": "code",
   "execution_count": null,
   "metadata": {},
   "outputs": [],
   "source": []
  }
 ],
 "metadata": {
  "kernelspec": {
   "display_name": "Python 3",
   "language": "python",
   "name": "python3"
  },
  "language_info": {
   "codemirror_mode": {
    "name": "ipython",
    "version": 3
   },
   "file_extension": ".py",
   "mimetype": "text/x-python",
   "name": "python",
   "nbconvert_exporter": "python",
   "pygments_lexer": "ipython3",
   "version": "3.8.2"
  }
 },
 "nbformat": 4,
 "nbformat_minor": 4
}
