{
 "cells": [
  {
   "cell_type": "code",
   "execution_count": 43,
   "metadata": {
    "scrolled": true
   },
   "outputs": [],
   "source": [
    "from openal import *\n",
    "import time\n",
    "\n",
    "waveFile = WaveFile(\"tono5s.wav\")\n",
    "buffer = Buffer(waveFile)\n",
    "\n",
    "#oalOpen(\"tono5s.wav\")\n",
    "source1 = Source(buffer)\n",
    "#v1 = (-20,0,0)\n",
    "#source1.set_position(v1)\n",
    "source1.set_looping(True)\n",
    "\n",
    "v = (0,0,0)\n",
    "listener = oalGetListener()\n",
    "listener.set_position(v)\n",
    "\n",
    "#time.sleep(5)\n",
    "#source2.play()\n",
    "\n",
    "i = -20\n",
    "source1.play()\n",
    "#time.sleep(5)\n",
    "#source1.stop()\n",
    "while i<20:\n",
    "    v1 = (i,0,3)\n",
    "    source1.set_position(v1)\n",
    "    time.sleep(0.1)\n",
    "    i = i + 1\n",
    "source1.stop()\n",
    "\n",
    "#while source1.get_state() == AL_PLAYING:\n",
    "#\ttime.sleep(1)\n",
    "\n",
    "#oalQuit()"
   ]
  }
 ],
 "metadata": {
  "kernelspec": {
   "display_name": "Python 3",
   "language": "python",
   "name": "python3"
  },
  "language_info": {
   "codemirror_mode": {
    "name": "ipython",
    "version": 3
   },
   "file_extension": ".py",
   "mimetype": "text/x-python",
   "name": "python",
   "nbconvert_exporter": "python",
   "pygments_lexer": "ipython3",
   "version": "3.8.2"
  }
 },
 "nbformat": 4,
 "nbformat_minor": 4
}
