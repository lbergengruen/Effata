{
 "cells": [
  {
   "cell_type": "code",
   "execution_count": 26,
   "metadata": {},
   "outputs": [],
   "source": [
    "from openal import *\n",
    "import time\n",
    "import random"
   ]
  },
  {
   "cell_type": "code",
   "execution_count": 27,
   "metadata": {},
   "outputs": [],
   "source": [
    "def beepBeep(source):\n",
    "    source.play()\n",
    "    time.sleep(0.1)\n",
    "    source.stop()\n",
    "    time.sleep(0.05)\n",
    "    source.play()\n",
    "    time.sleep(0.1)\n",
    "    source.stop()"
   ]
  },
  {
   "cell_type": "code",
   "execution_count": 104,
   "metadata": {},
   "outputs": [],
   "source": [
    "def gradualBeep(source):\n",
    "    source.play()\n",
    "    \n",
    "    gain = 1.0\n",
    "    while gain > 0.02:\n",
    "        source.set_gain(gain)\n",
    "        gain = gain - (gain/4.0)\n",
    "        time.sleep(0.05)\n",
    "    \n",
    "    source.set_gain(0.0)\n",
    "    time.sleep(0.5)\n",
    "    source.stop()"
   ]
  },
  {
   "cell_type": "code",
   "execution_count": 110,
   "metadata": {},
   "outputs": [],
   "source": [
    "def playSound(x,y,z):\n",
    "    v = (0,0,0)\n",
    "    listener = oalGetListener()\n",
    "    listener.set_position(v)\n",
    "    \n",
    "    waveFile = WaveFile(\"agudo5s.wav\")\n",
    "    buffer = Buffer(waveFile)\n",
    "\n",
    "    source = Source(buffer)\n",
    "    v1 = (x,y,z)\n",
    "    source.set_position(v1)\n",
    "#     source.set_looping(True)\n",
    "    pitch = random.random() + 0.3\n",
    "    source.set_pitch(pitch)\n",
    "\n",
    "    beepBeep(source)\n",
    "#     gradualBeep(source)\n",
    "    \n",
    "    oalQuit()"
   ]
  },
  {
   "cell_type": "code",
   "execution_count": 112,
   "metadata": {},
   "outputs": [],
   "source": [
    "playSound(-3,20,3)"
   ]
  }
 ],
 "metadata": {
  "kernelspec": {
   "display_name": "Python 3",
   "language": "python",
   "name": "python3"
  },
  "language_info": {
   "codemirror_mode": {
    "name": "ipython",
    "version": 3
   },
   "file_extension": ".py",
   "mimetype": "text/x-python",
   "name": "python",
   "nbconvert_exporter": "python",
   "pygments_lexer": "ipython3",
   "version": "3.8.2"
  }
 },
 "nbformat": 4,
 "nbformat_minor": 4
}
